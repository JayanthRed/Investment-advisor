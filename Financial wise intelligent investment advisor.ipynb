{
 "cells": [
  {
   "cell_type": "code",
   "execution_count": 1,
   "id": "173fedee",
   "metadata": {},
   "outputs": [],
   "source": [
    "from datetime import datetime, timedelta\n",
    "import pytz\n",
    "import yfinance as yf\n",
    "\n",
    "def edt_to_utc(date, mask='%m/%d/%Y %I:%M%p'):\n",
    "    \"\"\"\n",
    "    Convert EDT (Eastern Daylight Time) to UTC\n",
    "\n",
    "    :param date: EDT date string e.g. '5/26/2014 4:00pm'\n",
    "    :param mask: format of input date e.g '%m/%d/%Y %I:%M%'\n",
    "    :return: UTC date string e.g '2014-03-05 12:23:00 UTC+0000'\n",
    "    \"\"\"\n",
    "    utc = pytz.utc\n",
    "    eastern = pytz.timezone('US/Eastern')\n",
    "    date_ = datetime.strptime(date.replace(\" 0:\", \" 12:\"), mask)\n",
    "    date_eastern = eastern.localize(date_, is_dst=None)\n",
    "    date_utc = date_eastern.astimezone(utc)\n",
    "    return date_utc.strftime('%Y-%m-%d %H:%M:%S %Z%z')\n",
    "\n",
    "class Base(object):\n",
    "\n",
    "    def __init__(self, symbol):\n",
    "        self.symbol = symbol\n",
    "        self._table = ''\n",
    "        self._key = ''\n",
    "\n",
    "    def _prepare_query(self, table='quotes', key='symbol', **kwargs):\n",
    "        query = 'select * from yahoo.finance.{table} where {key} = \"{symbol}\"'.format(\n",
    "            symbol=self.symbol, table=table, key=key)\n",
    "        if kwargs:\n",
    "            query += ''.join(f' and {k}=\"{v}\"' for k, v in kwargs.items())\n",
    "        return query\n",
    "\n",
    "    def _request(self, query):\n",
    "        response = yf.Ticker(self.symbol).history(period='1d')\n",
    "        try:\n",
    "            results = response.to_dict(orient='records')[0]\n",
    "        except IndexError:\n",
    "            raise YQLQueryError('No data available for the specified symbol.')\n",
    "        else:\n",
    "            self._change_incorrect_none(results)\n",
    "            return results\n",
    "\n",
    "    def _change_incorrect_none(self, results):\n",
    "        for k, v in results.items():\n",
    "            if v and 'N/A' in v:\n",
    "                results[k] = None\n",
    "\n",
    "    def _fetch(self):\n",
    "        query = self._prepare_query(table=self._table, key=self._key)\n",
    "        data = self._request(query)\n",
    "        return data\n",
    "\n",
    "    def refresh(self):\n",
    "        self.data_set = self._fetch()\n",
    "\n",
    "class Currency(Base):\n",
    "\n",
    "    def __init__(self, symbol):\n",
    "        super(Currency, self).__init__(symbol)\n",
    "        self._table = 'xchange'\n",
    "        self._key = 'pair'\n",
    "        self.refresh()\n",
    "\n",
    "    def _fetch(self):\n",
    "        data = super(Currency, self)._fetch()\n",
    "        if data['Date'] and data['Time']:\n",
    "            data[u'DateTimeUTC'] = edt_to_utc('{0} {1}'.format(data['Date'], data['Time']))\n",
    "        return data\n",
    "\n",
    "    # Additional methods can be added based on specific requirements\n",
    "\n",
    "class Share(Base):\n",
    "\n",
    "    def __init__(self, symbol):\n",
    "        super(Share, self).__init__(symbol)\n",
    "        self._table = 'quotes'\n",
    "        self._key = 'symbol'\n",
    "        self.refresh()\n",
    "\n",
    "    def _fetch(self):\n",
    "        data = super(Share, self)._fetch()\n",
    "        if data['LastTradeDate'] and data['LastTradeTime']:\n",
    "            data[u'LastTradeDateTimeUTC'] = edt_to_utc('{0} {1}'.format(data['LastTradeDate'], data['LastTradeTime']))\n",
    "        return data\n",
    "\n",
    "    # Additional methods can be added based on specific requirements\n",
    "\n",
    "    def get_historical(self, start_date, end_date):\n",
    "        hist = yf.Ticker(self.symbol).history(start=start_date, end=end_date).reset_index().to_dict(orient='records')\n",
    "        return hist\n"
   ]
  },
  {
   "cell_type": "code",
   "execution_count": 2,
   "id": "c813f32b",
   "metadata": {},
   "outputs": [
    {
     "name": "stderr",
     "output_type": "stream",
     "text": [
      "\r",
      "[*********************100%%**********************]  1 of 1 completed"
     ]
    },
    {
     "name": "stdout",
     "output_type": "stream",
     "text": [
      "                 Open       High        Low      Close  Adj Close     Volume\n",
      "Date                                                                        \n",
      "2020-01-02  74.059998  75.150002  73.797501  75.087502  73.059425  135480400\n",
      "2020-01-03  74.287498  75.144997  74.125000  74.357498  72.349129  146322800\n",
      "2020-01-06  73.447502  74.989998  73.187500  74.949997  72.925644  118387200\n",
      "2020-01-07  74.959999  75.224998  74.370003  74.597504  72.582664  108872000\n",
      "2020-01-08  74.290001  76.110001  74.290001  75.797501  73.750252  132079200\n"
     ]
    },
    {
     "name": "stderr",
     "output_type": "stream",
     "text": [
      "\n"
     ]
    }
   ],
   "source": [
    "import yfinance as yf\n",
    "\n",
    "# Example: Fetch historical data for Apple Inc. (AAPL) from 2020-01-01 to 2022-01-01\n",
    "symbol = 'AAPL'\n",
    "start_date = '2020-01-01'\n",
    "end_date = '2022-01-01'\n",
    "\n",
    "data = yf.download(symbol, start=start_date, end=end_date)\n",
    "print(data.head())\n"
   ]
  },
  {
   "cell_type": "code",
   "execution_count": 3,
   "id": "a43da4f5",
   "metadata": {},
   "outputs": [
    {
     "name": "stdout",
     "output_type": "stream",
     "text": [
      "                  Open        High         Low       Close   Adj Close  \\\n",
      "Date                                                                     \n",
      "2021-12-27  177.089996  180.419998  177.070007  180.330002  178.065659   \n",
      "2021-12-28  180.160004  181.330002  178.529999  179.289993  177.038712   \n",
      "2021-12-29  179.330002  180.630005  178.139999  179.380005  177.127579   \n",
      "2021-12-30  179.470001  180.570007  178.089996  178.199997  175.962387   \n",
      "2021-12-31  178.089996  179.229996  177.259995  177.570007  175.340317   \n",
      "\n",
      "              Volume  \n",
      "Date                  \n",
      "2021-12-27  74919600  \n",
      "2021-12-28  79144300  \n",
      "2021-12-29  62348900  \n",
      "2021-12-30  59773000  \n",
      "2021-12-31  64062300  \n"
     ]
    }
   ],
   "source": [
    "print(data.tail())"
   ]
  },
  {
   "cell_type": "code",
   "execution_count": 4,
   "id": "83a75889",
   "metadata": {},
   "outputs": [
    {
     "data": {
      "text/html": [
       "<div>\n",
       "<style scoped>\n",
       "    .dataframe tbody tr th:only-of-type {\n",
       "        vertical-align: middle;\n",
       "    }\n",
       "\n",
       "    .dataframe tbody tr th {\n",
       "        vertical-align: top;\n",
       "    }\n",
       "\n",
       "    .dataframe thead th {\n",
       "        text-align: right;\n",
       "    }\n",
       "</style>\n",
       "<table border=\"1\" class=\"dataframe\">\n",
       "  <thead>\n",
       "    <tr style=\"text-align: right;\">\n",
       "      <th></th>\n",
       "      <th>Open</th>\n",
       "      <th>High</th>\n",
       "      <th>Low</th>\n",
       "      <th>Close</th>\n",
       "      <th>Adj Close</th>\n",
       "      <th>Volume</th>\n",
       "    </tr>\n",
       "  </thead>\n",
       "  <tbody>\n",
       "    <tr>\n",
       "      <th>count</th>\n",
       "      <td>505.000000</td>\n",
       "      <td>505.000000</td>\n",
       "      <td>505.000000</td>\n",
       "      <td>505.000000</td>\n",
       "      <td>505.000000</td>\n",
       "      <td>5.050000e+02</td>\n",
       "    </tr>\n",
       "    <tr>\n",
       "      <th>mean</th>\n",
       "      <td>118.019624</td>\n",
       "      <td>119.459560</td>\n",
       "      <td>116.648331</td>\n",
       "      <td>118.123030</td>\n",
       "      <td>116.015851</td>\n",
       "      <td>1.241110e+08</td>\n",
       "    </tr>\n",
       "    <tr>\n",
       "      <th>std</th>\n",
       "      <td>29.455228</td>\n",
       "      <td>29.586384</td>\n",
       "      <td>29.270541</td>\n",
       "      <td>29.439688</td>\n",
       "      <td>29.313434</td>\n",
       "      <td>6.315499e+07</td>\n",
       "    </tr>\n",
       "    <tr>\n",
       "      <th>min</th>\n",
       "      <td>57.020000</td>\n",
       "      <td>57.125000</td>\n",
       "      <td>53.152500</td>\n",
       "      <td>56.092499</td>\n",
       "      <td>54.707001</td>\n",
       "      <td>4.100000e+07</td>\n",
       "    </tr>\n",
       "    <tr>\n",
       "      <th>25%</th>\n",
       "      <td>91.279999</td>\n",
       "      <td>92.970001</td>\n",
       "      <td>90.910004</td>\n",
       "      <td>91.632500</td>\n",
       "      <td>89.611061</td>\n",
       "      <td>8.086110e+07</td>\n",
       "    </tr>\n",
       "    <tr>\n",
       "      <th>50%</th>\n",
       "      <td>123.750000</td>\n",
       "      <td>125.180000</td>\n",
       "      <td>122.209999</td>\n",
       "      <td>123.750000</td>\n",
       "      <td>121.628738</td>\n",
       "      <td>1.088292e+08</td>\n",
       "    </tr>\n",
       "    <tr>\n",
       "      <th>75%</th>\n",
       "      <td>140.070007</td>\n",
       "      <td>142.210007</td>\n",
       "      <td>138.369995</td>\n",
       "      <td>141.110001</td>\n",
       "      <td>139.135086</td>\n",
       "      <td>1.477512e+08</td>\n",
       "    </tr>\n",
       "    <tr>\n",
       "      <th>max</th>\n",
       "      <td>181.119995</td>\n",
       "      <td>182.130005</td>\n",
       "      <td>178.529999</td>\n",
       "      <td>180.330002</td>\n",
       "      <td>178.065659</td>\n",
       "      <td>4.265100e+08</td>\n",
       "    </tr>\n",
       "  </tbody>\n",
       "</table>\n",
       "</div>"
      ],
      "text/plain": [
       "             Open        High         Low       Close   Adj Close  \\\n",
       "count  505.000000  505.000000  505.000000  505.000000  505.000000   \n",
       "mean   118.019624  119.459560  116.648331  118.123030  116.015851   \n",
       "std     29.455228   29.586384   29.270541   29.439688   29.313434   \n",
       "min     57.020000   57.125000   53.152500   56.092499   54.707001   \n",
       "25%     91.279999   92.970001   90.910004   91.632500   89.611061   \n",
       "50%    123.750000  125.180000  122.209999  123.750000  121.628738   \n",
       "75%    140.070007  142.210007  138.369995  141.110001  139.135086   \n",
       "max    181.119995  182.130005  178.529999  180.330002  178.065659   \n",
       "\n",
       "             Volume  \n",
       "count  5.050000e+02  \n",
       "mean   1.241110e+08  \n",
       "std    6.315499e+07  \n",
       "min    4.100000e+07  \n",
       "25%    8.086110e+07  \n",
       "50%    1.088292e+08  \n",
       "75%    1.477512e+08  \n",
       "max    4.265100e+08  "
      ]
     },
     "execution_count": 4,
     "metadata": {},
     "output_type": "execute_result"
    }
   ],
   "source": [
    "data.describe()"
   ]
  },
  {
   "cell_type": "code",
   "execution_count": 5,
   "id": "3c0c3e08",
   "metadata": {},
   "outputs": [
    {
     "data": {
      "text/plain": [
       "Open         0\n",
       "High         0\n",
       "Low          0\n",
       "Close        0\n",
       "Adj Close    0\n",
       "Volume       0\n",
       "dtype: int64"
      ]
     },
     "execution_count": 5,
     "metadata": {},
     "output_type": "execute_result"
    }
   ],
   "source": [
    "data.isnull().sum()"
   ]
  },
  {
   "cell_type": "code",
   "execution_count": 6,
   "id": "19d5bcd5",
   "metadata": {},
   "outputs": [
    {
     "name": "stderr",
     "output_type": "stream",
     "text": [
      "\r",
      "[*********************100%%**********************]  1 of 1 completed"
     ]
    },
    {
     "name": "stdout",
     "output_type": "stream",
     "text": [
      "        Date  Opening Price  Highest Price  Lowest Price  Closing Price  \\\n",
      "0 2020-01-02      74.059998      75.150002     73.797501      75.087502   \n",
      "1 2020-01-03      74.287498      75.144997     74.125000      74.357498   \n",
      "2 2020-01-06      73.447502      74.989998     73.187500      74.949997   \n",
      "3 2020-01-07      74.959999      75.224998     74.370003      74.597504   \n",
      "4 2020-01-08      74.290001      76.110001     74.290001      75.797501   \n",
      "\n",
      "   Adjusted Closing Price  Trading Volume  \n",
      "0               73.059425       135480400  \n",
      "1               72.349129       146322800  \n",
      "2               72.925644       118387200  \n",
      "3               72.582664       108872000  \n",
      "4               73.750252       132079200  \n"
     ]
    },
    {
     "name": "stderr",
     "output_type": "stream",
     "text": [
      "\n"
     ]
    }
   ],
   "source": [
    "import pandas as pd\n",
    "\n",
    "def fetch_stock_data(symbol, start_date, end_date):\n",
    "    data = yf.download(symbol, start=start_date, end=end_date)\n",
    "    return data\n",
    "\n",
    "def preprocess_data(stock_data):\n",
    "    # Drop rows with missing values\n",
    "    stock_data = stock_data.dropna()\n",
    "\n",
    "    # Convert the index to a datetime object\n",
    "    stock_data.index = pd.to_datetime(stock_data.index)\n",
    "\n",
    "    return stock_data\n",
    "\n",
    "def format_data(preprocessed_data):\n",
    "    # Rename columns for better clarity\n",
    "    preprocessed_data = preprocessed_data.rename(columns={\n",
    "        'Open': 'Opening Price',\n",
    "        'High': 'Highest Price',\n",
    "        'Low': 'Lowest Price',\n",
    "        'Close': 'Closing Price',\n",
    "        'Adj Close': 'Adjusted Closing Price',\n",
    "        'Volume': 'Trading Volume'\n",
    "    })\n",
    "\n",
    "    # Reset the index (optional)\n",
    "    preprocessed_data = preprocessed_data.reset_index()\n",
    "\n",
    "    # Convert data types if needed\n",
    "    preprocessed_data['Trading Volume'] = preprocessed_data['Trading Volume'].astype(int)\n",
    "\n",
    "    return preprocessed_data\n",
    "\n",
    "# Example usage:\n",
    "symbol = 'AAPL'\n",
    "start_date = '2020-01-01'\n",
    "end_date = '2022-01-01'\n",
    "\n",
    "# Fetch historical stock data\n",
    "stock_data = fetch_stock_data(symbol, start_date, end_date)\n",
    "\n",
    "# Preprocess the data\n",
    "preprocessed_data = preprocess_data(stock_data)\n",
    "\n",
    "# Format the data\n",
    "formatted_data = format_data(preprocessed_data)\n",
    "\n",
    "# Display the formatted data\n",
    "print(formatted_data.head())\n",
    "\n"
   ]
  },
  {
   "cell_type": "code",
   "execution_count": 7,
   "id": "56a3a2dd",
   "metadata": {},
   "outputs": [
    {
     "name": "stderr",
     "output_type": "stream",
     "text": [
      "C:\\Users\\JAYANTH\\anaconda3\\lib\\site-packages\\scipy\\__init__.py:146: UserWarning: A NumPy version >=1.16.5 and <1.23.0 is required for this version of SciPy (detected version 1.26.1\n",
      "  warnings.warn(f\"A NumPy version >={np_minversion} and <{np_maxversion}\"\n",
      "[*********************100%%**********************]  1 of 1 completed\n"
     ]
    },
    {
     "data": {
      "image/png": "[encoded data removed]",
      "text/plain": [
       "<Figure size 864x432 with 5 Axes>"
      ]
     },
     "metadata": {
      "needs_background": "light"
     },
     "output_type": "display_data"
    },
    {
     "name": "stdout",
     "output_type": "stream",
     "text": [
      "The mean closing price is 118.12, and the standard deviation is 29.44.\n"
     ]
    }
   ],
   "source": [
    "import matplotlib.pyplot as plt\n",
    "import seaborn as sns\n",
    "\n",
    "# Fetch historical stock data\n",
    "symbol = 'AAPL'\n",
    "start_date = '2020-01-01'\n",
    "end_date = '2022-01-01'\n",
    "stock_data = yf.download(symbol, start=start_date, end=end_date)\n",
    "\n",
    "# Preprocess the data\n",
    "stock_data = stock_data.dropna()\n",
    "stock_data['Date'] = pd.to_datetime(stock_data.index)\n",
    "\n",
    "# Inferential Statistics\n",
    "mean_price = stock_data['Close'].mean()\n",
    "std_price = stock_data['Close'].std()\n",
    "\n",
    "# Visualization of Stats\n",
    "plt.figure(figsize=(12, 6))\n",
    "\n",
    "# Time Series Plot\n",
    "plt.subplot(2, 2, 1)\n",
    "plt.plot(stock_data['Date'], stock_data['Close'], label='Closing Price')\n",
    "plt.title('Stock Price Over Time')\n",
    "plt.xlabel('Date')\n",
    "plt.ylabel('Closing Price')\n",
    "plt.legend()\n",
    "\n",
    "# Distribution Plot\n",
    "plt.subplot(2, 2, 2)\n",
    "sns.histplot(stock_data['Close'], kde=True)\n",
    "plt.title('Distribution of Closing Price')\n",
    "\n",
    "# Correlation Heatmap\n",
    "plt.subplot(2, 2, 3)\n",
    "correlation_matrix = stock_data.corr()\n",
    "sns.heatmap(correlation_matrix, annot=True, cmap='coolwarm')\n",
    "plt.title('Correlation Heatmap')\n",
    "\n",
    "# Box Plot\n",
    "plt.subplot(2, 2, 4)\n",
    "sns.boxplot(x=stock_data['Close'])\n",
    "plt.title('Box Plot of Closing Price')\n",
    "\n",
    "plt.tight_layout()\n",
    "plt.show()\n",
    "\n",
    "# Storytelling\n",
    "print(f\"The mean closing price is {mean_price:.2f}, and the standard deviation is {std_price:.2f}.\")\n",
    "\n",
    "# Dashboarding Stats (Narrative not included due to code complexity)\n",
    "# You can use a tool like Power BI, Tableau, or Excel to create an interactive dashboard.\n"
   ]
  },
  {
   "cell_type": "code",
   "execution_count": null,
   "id": "491dad29",
   "metadata": {},
   "outputs": [],
   "source": []
  }
 ],
 "metadata": {
  "kernelspec": {
   "display_name": "Python 3 (ipykernel)",
   "language": "python",
   "name": "python3"
  },
  "language_info": {
   "codemirror_mode": {
    "name": "ipython",
    "version": 3
   },
   "file_extension": ".py",
   "mimetype": "text/x-python",
   "name": "python",
   "nbconvert_exporter": "python",
   "pygments_lexer": "ipython3",
   "version": "3.9.12"
  }
 },
 "nbformat": 4,
 "nbformat_minor": 5
}
